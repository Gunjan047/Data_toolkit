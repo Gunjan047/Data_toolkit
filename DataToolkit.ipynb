{
  "nbformat": 4,
  "nbformat_minor": 0,
  "metadata": {
    "colab": {
      "provenance": []
    },
    "kernelspec": {
      "name": "python3",
      "display_name": "Python 3"
    },
    "language_info": {
      "name": "python"
    }
  },
  "cells": [
    {
      "cell_type": "markdown",
      "source": [
        "#**ASSIGNMENT ON DATA TOOLKIT**"
      ],
      "metadata": {
        "id": "oKtX_ttdMX-L"
      }
    },
    {
      "cell_type": "markdown",
      "source": [
        "**1-> What is NumPy, and why is it widely used in Python?**\n",
        "\n",
        "- NumPy (short for Numerical Python) is one of the most powerful and widely used libraries in Python for numerical computing. It’s a cornerstone of the scientific Python ecosystem and is often the first tool developers reach for when working with arrays, matrices, or large datasets.\n",
        "\n",
        "NumPy is a library that provides:\n",
        "- Multidimensional array objects (ndarray)\n",
        "- Functions for performing mathematical operations on arrays\n",
        "- Tools for integrating C/C++ and Fortran code\n",
        "- Linear algebra, Fourier transforms, and random number capabilities\n",
        "\n",
        "**Efficient Array Computation**\n",
        "\n",
        " - NumPy arrays are faster and more memory-efficient than Python lists.\n",
        " - Operations on arrays are vectorized, meaning they’re executed in bulk without Python loops.\n",
        "\n",
        "**Foundation for Other Libraries**\n",
        "\n",
        " - Libraries like Pandas, SciPy, scikit-learn, TensorFlow, and PyTorch rely heavily on NumPy.\n",
        " - It’s the backbone of data science and machine learning workflows.\n",
        "\n",
        "**Rich Mathematical Functions**\n",
        " - Includes built-in support for statistical operations, linear algebra, matrix manipulation, and more.\n",
        "\n",
        "**Broadcasting**\n",
        "- Allows operations between arrays of different shapes, making code more concise and expressive.\n",
        "\n",
        "**Interoperability**\n",
        "- Easily integrates with C/C++, making it suitable for performance-critical applications.\n"
      ],
      "metadata": {
        "id": "jx5Y6oUtMmA4"
      }
    },
    {
      "cell_type": "markdown",
      "source": [
        "**2-> How does broadcasting work in NumPy?**\n",
        "\n",
        "- In NumPy, broadcasting is a set of rules that lets arrays of different shapes be combined in arithmetic operations without making unnecessary copies of data.\n",
        "\n",
        " It’s like NumPy saying:\n",
        "\n",
        " “If your arrays don’t match in shape, I’ll try to stretch one of them in a way that makes sense — without actually creating a huge expanded copy.”\n",
        "\n",
        "**It works**\n",
        "\n",
        "  When you perform an operation (like addition, subtraction, multiplication) on two arrays with different shapes:\n",
        "\n",
        "  - Compare shapes from right to left (last dimension first).\n",
        "\n",
        "  - Two dimensions are compatible if:\n",
        "\n",
        "  - They are equal, or\n",
        "\n",
        "  - One of them is 1 (which can be broadcast/repeated to match the other).\n",
        "\n",
        "If all dimensions are compatible, broadcasting is possible.\n",
        "\n",
        "NumPy \"virtually\" expands the smaller array to match the larger shape (without making full copies).\n",
        "\n",
        "\n",
        "Shapes comparison:\n",
        "\n",
        "  - a: (3,) → treated as (1,3)\n",
        "\n",
        "  - b: (3,1)\n",
        "\n",
        "Result: (3,3) after broadcasting.\n",
        "\n",
        "\n"
      ],
      "metadata": {
        "id": "uA8uklhIP4u8"
      }
    },
    {
      "cell_type": "code",
      "source": [
        "#Example\n",
        "\n",
        "import numpy as np\n",
        "\n",
        "a = np.array([1, 2, 3])       # shape (3,)\n",
        "b = np.array([[10], [20], [30]])  # shape (3,1)\n",
        "\n",
        "# Broadcasting addition\n",
        "result = a + b\n",
        "print(result)\n"
      ],
      "metadata": {
        "id": "N09Tm2grNiGW"
      },
      "execution_count": null,
      "outputs": []
    },
    {
      "cell_type": "markdown",
      "source": [
        "**3-> What is a Pandas DataFrame?**\n",
        "\n",
        "- A Pandas DataFrame is basically a 2D table of data in Python — think of it like a spreadsheet or SQL table, but inside your code.\n",
        "\n",
        " It comes from the Pandas library, which is built on top of NumPy and is widely used for data analysis.\n",
        "\n",
        "**Key Features of a DataFrame**\n",
        "\n",
        "**Rows and Columns**\n",
        "\n",
        "  - Rows = observations / records\n",
        "\n",
        "  - Columns = variables / fields\n",
        "\n",
        "  - Each column can have a different data type (string, number, date, etc.).\n",
        "\n",
        "**Labels**\n",
        "\n",
        "  - Rows have index labels (like row IDs).\n",
        "\n",
        "  - Columns have names.\n",
        "\n",
        "**Heterogeneous Data**\n",
        "\n",
        "  - Unlike NumPy arrays, columns can store different data types.\n",
        "\n",
        "**Size Mutable**\n",
        "\n",
        "  - You can add, remove, or modify rows and columns.\n",
        "\n",
        "**Data Alignment**\n",
        "\n",
        "  - Pandas automatically aligns data by index when performing operations.\n",
        "\n"
      ],
      "metadata": {
        "id": "rkODfUOCRUbk"
      }
    },
    {
      "cell_type": "markdown",
      "source": [
        "**4-> Explain the use of the groupby() method in Pandas  ?**\n",
        "\n",
        "- The groupby() method in Pandas is used to split data into groups, apply a function to each group, and then combine the results into a new DataFrame or Series.\n",
        "\n",
        " It’s similar to SQL’s GROUP BY clause and is a core tool for data aggregation and analysis.\n",
        "\n",
        "**Concept**\n",
        "\n",
        "  groupby() follows the split → apply → combine pattern:\n",
        "\n",
        "  - Split: Divide the DataFrame into groups based on one or more keys (columns).\n",
        "\n",
        "  - Apply: Perform a function on each group (sum, mean, count, custom functions, etc.).\n",
        "\n",
        "  - Combine: Merge the results back into a new object.\n",
        "\n"
      ],
      "metadata": {
        "id": "GXO-fQKNTA5C"
      }
    },
    {
      "cell_type": "markdown",
      "source": [
        "**5-> Why is Seaborn preferred for statistical visualizations?**\n",
        "\n",
        "- Seaborn is often preferred for statistical visualizations because it’s essentially a high-level wrapper around Matplotlib that focuses on statistical plotting and makes complex visualizations easier to create with fewer lines of code.\n",
        "\n",
        "**Built-in statistical plotting**\n",
        "\n",
        "- Seaborn integrates closely with Pandas DataFrames and NumPy arrays, so you can plot directly from your data without reshaping it much.\n",
        "\n",
        "- It has ready-to-use functions for:\n",
        "\n",
        "  - Regression plots (regplot, lmplot)\n",
        "\n",
        "  - Distribution plots (histplot, kdeplot)\n",
        "\n",
        "  - Categorical comparisons (boxplot, violinplot, stripplot)\n",
        "\n",
        "  - Heatmaps for correlation and matrices\n",
        "\n",
        "**Better defaults**\n",
        "\n",
        "  - Comes with predefined color palettes, themes, and styles that are visually appealing.\n",
        "\n",
        "  - You get publication-quality plots without heavy customization.\n",
        "\n",
        "**Built-in statistical summaries**\n",
        "\n",
        "  - Automatically computes summaries like confidence intervals, regression lines, kernel density estimates, etc., without you having to write the math.\n",
        "\n",
        "  - This is especially handy for exploratory data analysis (EDA).\n",
        "\n",
        "**Easy integration with Pandas**\n",
        "\n",
        "  - Works directly with DataFrames and column names (no need to manually extract x and y arrays).\n",
        "\n",
        "  - Automatically handles missing data gracefully in most plots.\n",
        "\n",
        "**High-level abstraction**\n",
        "\n",
        "  - With Seaborn, you focus on what you want to visualize, not on how to draw it.\n",
        "\n",
        "For example, sns.heatmap(df.corr()) automatically:\n",
        "\n",
        "   - Computes the correlation matrix\n",
        "\n",
        "   - Maps values to colors\n",
        "\n",
        "   - Adds a legend\n",
        "\n",
        "   - Handles labels"
      ],
      "metadata": {
        "id": "Uq4gV6Gmyj_I"
      }
    },
    {
      "cell_type": "markdown",
      "source": [
        "**6->  What are the differences between NumPy arrays and Python lists?**\n",
        "\n",
        "**Data type**\n",
        "\n",
        "  - **Python list**\n",
        "  \n",
        "  Can store different data types in the same list (e.g., [1, \"hello\", 3.5]).\n",
        "\n",
        "  - **NumPy array**\n",
        "  \n",
        "  Stores elements of the same type (all integers, all floats, etc.) for efficiency.\n",
        "\n",
        "**Memory efficiency**\n",
        "\n",
        "  - **List**\n",
        "  \n",
        "  Stores pointers to objects, so it uses more memory.\n",
        "\n",
        "  - **NumPy array**\n",
        "  \n",
        "   Stores elements in a contiguous block of memory, making it more compact.\n",
        "\n",
        "**Performance**\n",
        "\n",
        "  - **List**\n",
        "  \n",
        "  Slower for numerical operations (loops in Python).\n",
        "\n",
        "  - **NumPy array**\n",
        "  \n",
        "   Much faster because operations are implemented in C and use vectorization.\n",
        "\n",
        "**Functionality**\n",
        "\n",
        "  - **List**\n",
        "  \n",
        "   Limited to basic Python operations.\n",
        "\n",
        "  - **NumPy array**\n",
        "  \n",
        "   Supports element-wise operations, mathematical functions, broadcasting, linear algebra, and more.\n",
        "\n",
        "**Broadcasting**\n",
        "\n",
        "  - **List**\n",
        "  \n",
        "  No broadcasting; must loop manually.\n",
        "\n",
        "  - **NumPy array**\n",
        "  \n",
        "   Supports broadcasting for operations on arrays of different shapes.\n",
        "\n",
        "**Size**\n",
        "\n",
        "  - **List**\n",
        "  \n",
        "   Dynamic resizing (can grow/shrink easily).\n",
        "\n",
        "  - **NumPy array**\n",
        "  \n",
        "  Fixed size once created (but you can create new arrays with a different size).\n",
        "\n"
      ],
      "metadata": {
        "id": "0tjVI0DN1cBN"
      }
    },
    {
      "cell_type": "markdown",
      "source": [
        "**7-> What is a heatmap, and when should it be used?**\n",
        "\n",
        "- A heatmap is a type of data visualization that uses color intensity to represent values in a matrix or table.\n",
        "\n",
        " Instead of showing raw numbers, it maps values to a color gradient — maki ng it easy to spot patterns, trends, and outliers at a glance.\n",
        "\n",
        " It used in -\n",
        "\n",
        "**Correlation analysis**\n",
        "\n",
        "  See which variables are positively/negatively related.\n",
        "\n",
        "**Showing intensity or density**\n",
        "\n",
        "  e.g., website click heatmaps, population density maps.\n",
        "\n",
        "**Large matrices**\n",
        "\n",
        "  Helps detect high/low value clusters.\n",
        "\n",
        "**Comparing categories**\n",
        "\n",
        "  Visualizing how values change across two dimensions.\n",
        "\n",
        "\n"
      ],
      "metadata": {
        "id": "Caz74xae4PKt"
      }
    },
    {
      "cell_type": "markdown",
      "source": [
        "**8-> What does the term “vectorized operation” mean in NumPy ?**\n",
        "\n",
        "-  In NumPy, a vectorized operation means performing a mathematical operation on entire arrays at once, without writing explicit Python loops.\n",
        "\n",
        " Instead of iterating through elements manually, NumPy applies the operation to all elements internally using fast, low-level C code — which makes it much faster and more efficient.\n",
        "\n",
        "\n"
      ],
      "metadata": {
        "id": "O-yVjALC7OX9"
      }
    },
    {
      "cell_type": "markdown",
      "source": [
        "**9-> How does Matplotlib differ from Plotly?**\n",
        "\n",
        "- ChatGPT said:\n",
        "Matplotlib and Plotly are both popular Python libraries for data visualization, but they differ in style, interactivity, and typical use cases.\n",
        "\n",
        "Here’s a breakdown:\n",
        "\n",
        "**Nature of the library**\n",
        "\n",
        "  - Matplotlib → Primarily static plotting library (images, PDFs, PNGs).\n",
        "\n",
        "  - Plotly → Primarily interactive plotting library (hover tooltips, zoom, pan).\n",
        "\n",
        "**Interactivity**\n",
        "\n",
        "  - **Matplotlib**\n",
        "\n",
        "    - Plots are static by default.\n",
        "\n",
        "    - You can embed interactive features using mpl_interactions or by using Jupyter Notebook widgets, but it's not the main design.\n",
        "\n",
        "  - **Plotly**\n",
        "\n",
        "    - Interactivity is built-in — you can hover over points, zoom, and export directly from the plot.\n",
        "\n",
        "**Ease of use**\n",
        "\n",
        "  - **Matplotlib**\n",
        "\n",
        "    - Very powerful but more verbose for complex visuals.\n",
        "\n",
        "    - More control over every tiny detail (good for custom scientific figures).\n",
        "\n",
        "  - **Plotly**\n",
        "\n",
        "    - Easier to make modern-looking, interactive dashboards quickly.\n",
        "\n",
        "    - Less boilerplate for common charts.\n",
        "\n",
        "**Output formats**\n",
        "\n",
        "- Matplotlib → Best for academic papers, printed reports, static PDFs, and fine-tuned figures.\n",
        "\n",
        "\n",
        "- Plotly → Best for web apps, dashboards, and sharing interactive results.\n",
        "\n",
        "**Styling**\n",
        "\n",
        "  - Matplotlib → Classic, static styling (but fully customizable).\n",
        "\n",
        "  - Plotly → Modern themes and aesthetics out-of-the-box."
      ],
      "metadata": {
        "id": "zAejTNcNS6WJ"
      }
    },
    {
      "cell_type": "markdown",
      "source": [
        "**10-> What is the significance of hierarchical indexing in Pandas ?**\n",
        "\n",
        "- Hierarchical indexing in Pandas — also called a MultiIndex — is a way to have multiple levels of index labels on rows (or columns).\n",
        "\n",
        " It’s significant because it allows you to work with higher-dimensional data in a 2D DataFrame, making it easier to organize, slice, and aggregate complex datasets.\n",
        "\n",
        "**Why it’s useful**\n",
        "\n",
        "  - **Organizes complex datasets**\n",
        "\n",
        "    - Lets you store multiple keys in the index instead of just one.\n",
        "\n",
        "    - Example: Country + Year, or Region + Product.\n",
        "\n",
        "  - **Makes subsetting easier**\n",
        "\n",
        "    - You can quickly select data at any level of the hierarchy.\n",
        "\n",
        "    - Facilitates grouped data analysis\n",
        "\n",
        "    - Often comes as a result of groupby() or pivot operations.\n",
        "\n",
        "  - **Enables reshaping**\n",
        "\n",
        "  Makes it easier to unstack, stack, and reshape data between wide and long formats\n"
      ],
      "metadata": {
        "id": "sdZMkdLR9aF-"
      }
    },
    {
      "cell_type": "code",
      "source": [
        "import pandas as pd\n",
        "\n",
        "# Creating a MultiIndex DataFrame\n",
        "data = {\n",
        "    \"Sales\": [200, 250, 300, 400],\n",
        "    \"Profit\": [50, 60, 70, 100]\n",
        "}\n",
        "\n",
        "index = pd.MultiIndex.from_tuples([\n",
        "    (\"USA\", 2023),\n",
        "    (\"USA\", 2024),\n",
        "    (\"Canada\", 2023),\n",
        "    (\"Canada\", 2024)\n",
        "], names=[\"Country\", \"Year\"])\n",
        "\n",
        "df = pd.DataFrame(data, index=index)\n",
        "print(df)\n"
      ],
      "metadata": {
        "colab": {
          "base_uri": "https://localhost:8080/"
        },
        "id": "rCCbNT2w-tEw",
        "outputId": "7c584f64-3f47-44da-dca4-9dbce0434237"
      },
      "execution_count": null,
      "outputs": [
        {
          "output_type": "stream",
          "name": "stdout",
          "text": [
            "              Sales  Profit\n",
            "Country Year               \n",
            "USA     2023    200      50\n",
            "        2024    250      60\n",
            "Canada  2023    300      70\n",
            "        2024    400     100\n"
          ]
        }
      ]
    },
    {
      "cell_type": "markdown",
      "source": [
        "**11-> What is the role of Seaborn’s pairplot() function ?**\n",
        "\n",
        "- Seaborn’s pairplot() function is used to quickly visualize relationships between multiple variables in a dataset by plotting every possible pair of numeric columns against each other in a grid of scatterplots (and histograms/kde on the diagonal).\n",
        "\n",
        " It’s essentially a quick exploratory data analysis (EDA) tool for seeing trends, correlations, and patterns across multiple variables at once.\n",
        "\n",
        "**Key roles of pairplot()**\n",
        "\n",
        "  - Shows pairwise relationships\n",
        "\n",
        "Creates scatterplots for each possible combination of variables.\n",
        "\n",
        "  - Shows individual variable distributions\n",
        "\n",
        "The diagonal contains histograms or KDE plots of each variable.\n",
        "\n",
        "  - Reveals correlations\n",
        "\n",
        "You can visually detect linear/non-linear relationships and clusters.\n",
        "\n",
        "  - Supports categorical coloring\n",
        "\n",
        "Use the hue parameter to color points by a category, making patterns across groups clearer."
      ],
      "metadata": {
        "id": "CL3tHal9-9Ai"
      }
    },
    {
      "cell_type": "markdown",
      "source": [
        "**12-> What is the purpose of the describe() function in Pandas ?**\n",
        "\n",
        "- In Pandas, the describe() function is used to quickly generate summary statistics of your dataset, giving you an overview of its distribution, central tendency, and spread.\n",
        "\n",
        " It’s like getting a “health report” of your data in one line — very useful for exploratory data analysis (EDA).\n",
        "\n",
        " it is used for-\n",
        "\n",
        "  - Quickly detects missing data, outliers, and data distribution patterns.\n",
        "\n",
        "  - Saves time in Exploratory Data Analysis (EDA).\n",
        "\n",
        "  - Works for both numeric and categorical data.\n",
        "\n",
        "\n",
        "\n"
      ],
      "metadata": {
        "id": "uj49Bzf5_uHj"
      }
    },
    {
      "cell_type": "markdown",
      "source": [
        "**13-> Why is handling missing data important in Pandas ?**\n",
        "\n",
        "- Handling missing data in Pandas is important because unhandled gaps can lead to wrong results, broken code, or misleading insights.\n",
        "\n",
        "**Prevents Errors in Analysis**\n",
        "\n",
        "  - Many operations like .mean() or machine learning models can’t work with NaN values unless they’re removed or replaced.\n",
        "\n",
        "  - Example: If you try to calculate a correlation and one column has missing values, Pandas may return NaN for the whole result.\n",
        "\n",
        "**Ensures Accuracy of Results**\n",
        "\n",
        "  - Missing data can skew averages, medians, or other statistics.\n",
        "\n",
        "Example:\n",
        "\n",
        "     Ages = [25, 30, NaN]\n",
        "\n",
        "     mean = (25 + 30) / 2 = 27.5  # instead of (25 + 30 + NaN)\n",
        "\n",
        "\n",
        "  - Pandas ignores NaNs by default for some operations, but that still reduces the sample size.\n",
        "\n",
        "**Improves Data Quality**\n",
        "\n",
        "  - Inconsistent or incomplete datasets can hide real patterns.\n",
        "\n",
        "  - Detecting missing data early helps you clean and standardize the dataset before deeper analysis.\n",
        "\n",
        "**Required for Machine Learning**\n",
        "\n",
        "  - Most ML algorithms cannot handle NaN values directly.\n",
        "\n",
        "  - You must impute (fill) missing values or drop them to train models successfully.\n",
        "\n",
        "**Avoids Logical Mistakes**\n",
        "\n",
        "  - Missing data can cause wrong filtering or grouping results.\n",
        "\n",
        "  - Example: Grouping with NaNs in the key column will leave some rows ungrouped."
      ],
      "metadata": {
        "id": "6FKI68A_DF-l"
      }
    },
    {
      "cell_type": "markdown",
      "source": [
        "**14-> What are the benefits of using Plotly for data visualization?**\n",
        "\n",
        "- Using Plotly for data visualization comes with several benefits, especially when you need interactive, high-quality, and customizable charts.\n",
        "\n",
        "**1. Interactive Visualizations**\n",
        "\n",
        "  - Plotly charts are interactive by default — you can zoom, hover, pan, and highlight points without extra coding.\n",
        "\n",
        "  - Makes it easier to explore data dynamically compared to static charts from Matplotlib.\n",
        "\n",
        "**2. Wide Variety of Charts**\n",
        "\n",
        "  - Supports basic (line, bar, scatter) and advanced (3D plots, heatmaps, choropleths, financial candlesticks, etc.).\n",
        "\n",
        "  - Great for geospatial data (map visualizations) and scientific plots.\n",
        "\n",
        "**3. High Aesthetic Quality**\n",
        "\n",
        "  - Modern, clean, and publication-ready visuals.\n",
        "\n",
        "  - Comes with smooth animations and hover tooltips built-in.\n",
        "\n",
        "**4. Works Across Platforms**\n",
        "\n",
        "  - Plots can be used in Jupyter Notebooks, web apps (via Dash), or saved as HTML for sharing.\n",
        "\n",
        "  - Fully compatible with Python, R, JavaScript, and other languages.\n",
        "\n",
        "**5. Real-Time and Web Integration**\n",
        "\n",
        "  - Perfect for real-time dashboards.\n",
        "\n",
        "  - With Dash, you can turn your Plotly charts into fully interactive web apps without needing JavaScript.\n",
        "\n",
        "**6. Customization Power**\n",
        "\n",
        "  - Supports fine control over colors, annotations, legends, and layouts.\n",
        "\n",
        "  - Allows you to add multiple data series and subplots easily."
      ],
      "metadata": {
        "id": "a2NBHttrEzdf"
      }
    },
    {
      "cell_type": "markdown",
      "source": [
        "**15-> How does NumPy handle multidimensional arrays?**\n",
        "\n",
        "- NumPy handles multidimensional arrays using its core data structure called ndarray (N-dimensional array), which allows you to store and operate on data in any number of dimensions efficiently.\n",
        "\n"
      ],
      "metadata": {
        "id": "Be4grF00F2wc"
      }
    },
    {
      "cell_type": "code",
      "source": [
        "#1. Creation of Multidimensional Arrays\n",
        "\n",
        "#You can create arrays with 2D, 3D, or more dimensions directly:\n",
        "\n",
        "import numpy as np\n",
        "\n",
        "arr_2d = np.array([[1, 2, 3], [4, 5, 6]])      # 2D array\n",
        "arr_3d = np.array([[[1, 2], [3, 4]], [[5, 6], [7, 8]]])  # 3D array\n",
        "\n",
        "\n",
        "#NumPy internally stores these arrays in contiguous memory blocks for speed."
      ],
      "metadata": {
        "id": "ohwHh1uxGNF2"
      },
      "execution_count": null,
      "outputs": []
    },
    {
      "cell_type": "markdown",
      "source": [
        "**2. Shape & Dimensions**\n",
        "\n",
        ".shape → tuple showing size of each dimension\n",
        "\n",
        ".ndim → number of dimensions\n",
        "\n",
        ".size → total number of elements\n",
        "\n",
        "     print(arr_2d.shape)  # (2, 3) → 2 rows, 3 columns\n",
        "     print(arr_3d.ndim)   # 3"
      ],
      "metadata": {
        "id": "1wShiE8YGYaC"
      }
    },
    {
      "cell_type": "markdown",
      "source": [
        "**3. Indexing & Slicing**\n",
        "\n",
        "NumPy allows multi-axis indexing:\n",
        "\n",
        "           print(arr_2d[0, 1])   # Row 0, Column 1 → 2\n",
        "           print(arr_3d[1, 0, 1])  # Second block, first row, second col → 6\n",
        "\n",
        "\n",
        "You can slice across multiple dimensions:\n",
        "\n",
        "           print(arr_2d[:, 1])  # All rows, column 1\n",
        "\n",
        "**4. Broadcasting**\n",
        "\n",
        "NumPy can automatically extend shapes to perform operations on arrays of different sizes.\n",
        "\n",
        "     arr_2d + 10   # Adds 10 to every element\n",
        "\n",
        "**5. Vectorized Operations**\n",
        "\n",
        "All elements can be processed at once without loops:\n",
        "\n",
        "     result = arr_2d * 2\n",
        "\n",
        "\n",
        "This is much faster than native Python loops.\n",
        "\n",
        "**6. Reshaping & Transposing**\n",
        "\n",
        "Change dimensions without changing data:\n",
        "\n",
        "       reshaped = arr_2d.reshape(3, 2)\n",
        "      transposed = arr_2d.T\n"
      ],
      "metadata": {
        "id": "wzSy1j5KG7a0"
      }
    },
    {
      "cell_type": "markdown",
      "source": [
        "**16-> What is the role of Bokeh in data visualization?**\n",
        "\n",
        "- Bokeh is a Python library designed to create interactive, web-ready visualizations that can handle large or streaming datasets efficiently.\n",
        "\n",
        " Its role in data visualization is to bridge the gap between static plotting libraries (like Matplotlib) and fully interactive dashboards without needing deep web development skills.\n",
        "\n",
        "**Key Roles of Bokeh in Data Visualization**\n",
        "\n",
        "**1. Creating Interactive Plots**\n",
        "\n",
        "  - Unlike static charts, Bokeh allows zooming, panning, hovering, and tooltips by default.\n",
        "\n",
        "  - Example: Hovering over a data point can display extra details without cluttering the plot.\n",
        "\n",
        "**2. Web Integration**\n",
        "\n",
        "  - Generates output as HTML, JSON, or JavaScript so you can embed visualizations in websites or web apps.\n",
        "\n",
        "  - Works well with Flask, Django, and Jupyter Notebooks.\n",
        "\n",
        "**3. Handling Large or Streaming Data**\n",
        "\n",
        "  - Can display millions of points using WebGL acceleration.\n",
        "\n",
        "  - Supports real-time streaming updates, useful for live dashboards.\n",
        "\n",
        "**4. Dashboard Creation**\n",
        "\n",
        "  - You can combine multiple plots, widgets, and controls to make interactive dashboards without writing JavaScript.\n",
        "\n",
        "  - Sliders, dropdowns, and checkboxes can update visualizations in real time.\n",
        "\n",
        "**5. Flexible Plotting API**\n",
        "\n",
        "  - High-level interface (bokeh.plotting) → Quick creation of common charts.\n",
        "\n",
        "  - Low-level interface (bokeh.models) → Full customization control for complex visualizations."
      ],
      "metadata": {
        "id": "-bPG1QLzIRHL"
      }
    },
    {
      "cell_type": "markdown",
      "source": [
        "**17-> Explain the difference between apply() and map() in Pandas?**\n",
        "\n",
        "- In Pandas, both apply() and map() are used to transform data, but they differ in scope, flexibility, and use cases.\n",
        "\n",
        "**1. map()**\n",
        "\n",
        "**Scope:** Works only on a Series (1D data).\n",
        "\n",
        "**Purpose:** Apply a function, mapping, or dictionary to each element in the Series.\n",
        "\n",
        "  - Element-wise transformation only.\n",
        "\n",
        "  - Works with functions, dicts, or Series for mapping.\n",
        "\n",
        "  - Cannot directly handle multi-column logic.\n",
        "\n"
      ],
      "metadata": {
        "id": "7YdbWd2WJWK5"
      }
    },
    {
      "cell_type": "code",
      "source": [
        "#import pandas as pd\n",
        "\n",
        "s = pd.Series([1, 2, 3, 4])\n",
        "\n",
        "# Function\n",
        "print(s.map(lambda x: x * 2))\n",
        "\n",
        "# Dictionary mapping\n",
        "print(s.map({1: 'One', 2: 'Two'}))\n",
        "\n",
        "# Built-in function\n",
        "print(s.map(str))\n"
      ],
      "metadata": {
        "id": "ZtacOwi9J-Ds"
      },
      "execution_count": null,
      "outputs": []
    },
    {
      "cell_type": "markdown",
      "source": [
        "**2. apply()**\n",
        "\n",
        "**Scope:** Works on both Series and DataFrame (1D or 2D data).\n",
        "\n",
        "**Purpose:** Apply a function along rows or columns of a DataFrame, or element-wise for a Series.\n",
        "\n",
        "  - Works for both Series and DataFrames.\n",
        "\n",
        "  - Can operate row-wise (axis=1) or column-wise (axis=0).\n",
        "\n",
        "  - More flexible — can apply complex, multi-column logic."
      ],
      "metadata": {
        "id": "EwDStaB6Kit6"
      }
    },
    {
      "cell_type": "code",
      "source": [
        "df = pd.DataFrame({\n",
        "    'A': [1, 2, 3],\n",
        "    'B': [10, 20, 30]\n",
        "})\n",
        "\n",
        "# On a Series (similar to map)\n",
        "print(df['A'].apply(lambda x: x * 2))\n",
        "\n",
        "# On a DataFrame (row-wise or column-wise)\n",
        "print(df.apply(sum, axis=0))  # Column sums\n",
        "print(df.apply(sum, axis=1))  # Row sums\n"
      ],
      "metadata": {
        "id": "i9k8TIKMK6d0"
      },
      "execution_count": null,
      "outputs": []
    },
    {
      "cell_type": "markdown",
      "source": [
        "**18-> What are some advanced features of NumPy?**\n",
        "\n",
        "- NumPy provides numerous functionalities that go beyond basic array manipulation. Here are some advanced features that enhance its capabilities for scientific and numerical computing:\n",
        "\n",
        "**1. Broadcasting**\n",
        "\n",
        "Allows arithmetic operations between arrays of different shapes, eliminating the need for explicit loops or reshaping.\n",
        "NumPy automatically aligns dimensions and expands the smaller array to match the larger one for element-wise operations.\n",
        "This feature reduces memory usage and improves efficiency by avoiding the creation of temporary arrays.\n",
        "\n",
        "**2. Universal functions (ufuncs)**\n",
        "\n",
        "Efficiently perform element-wise operations on arrays, such as mathematical, trigonometric, and comparison functions.\n",
        "Support array broadcasting and automatic type casting for seamless calculations.\n",
        "\n",
        "**3. Advanced indexing**\n",
        "\n",
        "Fancy Indexing: Selecting and manipulating elements using arrays of indices, allowing for non-contiguous access and custom ordering.\n",
        "Boolean Indexing: Filtering or selecting elements based on a boolean mask, enabling conditional operations and data extraction.\n",
        "\n",
        "**4. Structured arrays**\n",
        "\n",
        "Represent tabular or structured data with heterogeneous data types, akin to a database table or a C struct.\n",
        "Each element in a structured array can have multiple fields, each with its own data type and size.\n",
        "\n",
        "**5. Fourier transform**\n",
        "\n",
        "The numpy.fft module provides functions for computing the Fast Fourier Transform (FFT) and its inverse.\n",
        "Useful for analyzing signals in the frequency domain, data compression, and various scientific applications.\n",
        "\n",
        "**6. Linear algebra**\n",
        "\n",
        "Offers a comprehensive set of linear algebra operations, including matrix multiplication, eigenvalue decomposition, singular value decomposition, and solving linear equations.\n",
        "Essential for tasks in fields like machine learning, computer graphics, and physics.\n",
        "\n",
        "**7. Random number generation**\n",
        "\n",
        "Provides functions for generating random numbers from various probability distributions, like uniform, normal, and exponential.\n",
        "Supports seeding for reproducible results and methods like choice() for random sampling from arrays.\n",
        "\n",
        "\n",
        "These advanced features make NumPy a powerful and versatile tool for numerical and scientific computing in Python, enabling efficient handling and manipulation of diverse datasets for a wide range of applications."
      ],
      "metadata": {
        "id": "rqGinfU5K_Y1"
      }
    },
    {
      "cell_type": "markdown",
      "source": [
        "**19-> How does Pandas simplify time series analysis?**\n",
        "\n",
        "- Pandas greatly simplifies time series analysis by providing specialized functionalities and data structures designed for efficiently handling and manipulating time-oriented data.\n",
        "\n",
        "Here's how Pandas streamlines time series analysis:\n",
        "\n",
        "**1. DateTimeIndex for efficient time-based indexing and manipulation**\n",
        "\n",
        "  - Pandas introduces the DatetimeIndex as the core data structure for time series data.\n",
        "\n",
        "  - It automatically handles and stores date and time values as datetime64[ns] objects, allowing for efficient vectorized operations using NumPy arrays.\n",
        "\n",
        "  - This enables intuitive selection and slicing of data based on dates and times using string representations, according to Dataquest.\n",
        "\n",
        "  - You can easily access specific date and time components like year, month, day, hour, etc. through the .dt accessor, notes GeeksforGeeks.\n",
        "\n",
        "**2. Time-series specific functionalities**\n",
        "\n",
        "  - **Resampling:** This powerful feature allows you to change the frequency of your time series data (e.g., converting hourly data to daily or monthly) and apply aggregation functions like mean, max, sum, etc.\n",
        "\n",
        "  - **Rolling Window Operations:** Pandas supports rolling window calculations (also known as moving averages) which are useful for smoothing out short-term fluctuations and highlighting longer-term trends in the data.\n",
        "\n",
        "  - **Shifting and Lagging:** You can easily shift time series data by a specified number of periods (positive or negative) to compare values over different time periods, crucial for tasks like calculating percentage changes or building lag features for machine learning models.\n",
        "\n",
        "  - **Time Zone Handling:** Pandas provides robust support for managing time zones, allowing conversions between UTC and local time zones, ensuring accurate time interpretations, says GeeksforGeeks.\n",
        "\n",
        "**3. Data cleaning and preparation**\n",
        "\n",
        "  - Pandas simplifies handling missing data (NaN values) with functions like dropna() and fillna() to remove or fill in missing values, which is particularly relevant in time series analysis, according to Incentius.\n",
        "  - It streamlines the process of converting various date/time formats from strings to Timestamp objects using pd.to_datetime(), a crucial step in preparing data for time series analysis"
      ],
      "metadata": {
        "id": "cmo7OV0ScCaf"
      }
    },
    {
      "cell_type": "markdown",
      "source": [
        "**20-> What is the role of a pivot table in Pandas?**\n",
        "\n",
        "- A pivot table in Pandas, accessed through the pd.pivot_table() function, is a powerful tool used for summarizing and aggregating data in a tabular format, similar to a spreadsheet pivot table. It allows you to reorganize and transform a DataFrame, making it easier to analyze and extract insights from your data.\n",
        "\n",
        "Here's a breakdown of its key roles and benefits:\n",
        "\n",
        "**1. Data summarization and aggregation**\n",
        "\n",
        " - The primary role of a pivot table is to summarize large datasets by aggregating data across specified categories or dimensions.\n",
        "\n",
        " - You can define rows (index), columns (columns), and values (values) to create a new table where the values are aggregated based on your chosen function (aggfunc, defaulting to mean).\n",
        "\n",
        " - For example, you could summarize sales data by showing the total sales for each product in each region.\n",
        "\n",
        "**2. Data transformation and reshaping**\n",
        "\n",
        " - Pivot tables transform data from a \"long\" format (where each data point is a row) to a \"wide\" format (where unique values of a column become new column headers).\n",
        "\n",
        " - This reshaped data can be more intuitive and visually appealing for analysis and comparisons.\n",
        "\n",
        " - Consider a dataset with dates, cities, and temperatures. A pivot table could reshape this to show dates as rows, cities as columns, and corresponding temperatures as values, making it easier to compare temperatures across cities for different dates.\n",
        "\n",
        "**3. Flexible analysis**\n",
        "\n",
        " - You can easily change the structure of your data by modifying the index and columns parameters, allowing you to explore different perspectives on your dataset.\n",
        "\n",
        " - This flexibility helps in answering various questions about your data by reorganizing the data according to your needs.\n",
        "\n",
        "**4. Pattern recognition**\n",
        "\n",
        " - By summarizing and rearranging data, pivot tables help reveal hidden trends and patterns that might be difficult to discern from raw data alone.\n",
        "\n",
        " - For instance, you could quickly identify the best-performing products in each region or analyze seasonal sales trends.\n",
        "\n",
        "**5. Interactive exploration**\n",
        "\n",
        " - Pivot tables enable interactive exploration of data, allowing you to dynamically adjust the view to answer specific questions.\n",
        "\n",
        " - This dynamic nature supports iterative analysis, where you refine your insights by exploring different angles of the data.\n",
        "\n",
        "**6. Practical applications**\n",
        "\n",
        "  - **Sales Analysis:** Summarize total sales by product, region, or time period.\n",
        "  - **Performance Metrics:** Calculate and compare various performance metrics like average sales per unit, total units sold, etc.\n",
        "  - **Time Series Analysis:** Analyze trends and patterns in data over time.\n",
        "Financial Data Analysis: Summarize financial statements, compare budgets, and analyze investment performance."
      ],
      "metadata": {
        "id": "hVWeu6v8dWKv"
      }
    },
    {
      "cell_type": "markdown",
      "source": [
        "**21->Why is NumPy’s array slicing faster than Python’s list slicing ?**\n",
        "\n",
        "- **1. Contiguous Memory Storage**\n",
        "\n",
        "   - NumPy arrays store elements in a single, contiguous block of memory (all elements have the same type and size).\n",
        "\n",
        "   - Python lists store references (pointers) to objects scattered in memory.\n",
        "\n",
        "   - When slicing a NumPy array, it just creates a view (a new object pointing to the same memory) — no copying of data.\n",
        "\n",
        "   - Python lists must create a new list and copy elements when sliced.\n",
        "\n",
        "**2. Slicing as a View (Zero-Copy)**\n",
        "\n",
        "  - NumPy just adjusts strides (steps in memory) for the view.\n",
        "\n",
        "  - Python lists cannot do this — slicing always duplicates data.\n",
        "\n",
        "**3. Optimized C Implementation**\n",
        "\n",
        "  - NumPy is written in C and uses highly optimized pointer arithmetic for slicing.\n",
        "\n",
        "  - Python lists are managed by the Python interpreter, which is slower due to dynamic typing and reference handling.\n",
        "\n",
        "**4. Homogeneous Data Types**\n",
        "\n",
        "  - NumPy arrays contain elements of the same type, so slicing can be done with predictable, fixed-size steps in memory.\n",
        "\n",
        "  - Python lists are heterogeneous, so slicing involves looping through object references.\n"
      ],
      "metadata": {
        "id": "scV4xekqejPM"
      }
    },
    {
      "cell_type": "markdown",
      "source": [
        "**22->What are some common use cases for Seaborn?**\n",
        "\n",
        "- Seaborn is a Python data visualization library built on Matplotlib, commonly used for creating informative and aesthetically pleasing statistical graphics. Its common use cases include:\n",
        "\n",
        "**Exploring Data Distributions:** Visualizing the distribution of a single variable (univariate analysis) using plots like histograms, kernel density estimates (KDEs), or box plots to understand the data's shape, central tendency, and spread.\n",
        "\n",
        "**Analyzing Relationships Between Variables:**\n",
        "Numerical Relationships: Using scatter plots to show the relationship between two continuous variables, or line plots to visualize trends over time or across a continuous range.\n",
        "\n",
        "**Categorical Relationships:** Employing categorical plots such as bar plots, count plots, box plots, or violin plots to compare numerical values across different categories or to visualize the distribution of a categorical variable.\n",
        "**Regression Analysis:** Creating regression plots to visualize the relationship between variables and the fit of a linear regression model.\n",
        "\n",
        "**Visualizing Complex Datasets:**\n",
        "  - **Heatmaps:** Representing matrices of data, such as correlation matrices or confusion matrices, where color intensity indicates the value.\n",
        "  - **Facet Grids:** Creating grids of subplots to explore relationships within different subsets of the data based on categorical or other grouping variables.\n",
        "  - **Statistical Data Exploration:** Seaborn's functions often include built-in statistical estimations, such as confidence intervals or regression lines, which aid in understanding the statistical properties of the data.\n",
        "  - **Creating Publication-Quality Graphics:** Seaborn offers attractive default styles, color palettes, and themes that produce visually appealing plots suitable for presentations, reports, and publications."
      ],
      "metadata": {
        "id": "6HFHoO3CftK2"
      }
    },
    {
      "cell_type": "markdown",
      "source": [
        "#**PRACTICAL QUESTIONS**"
      ],
      "metadata": {
        "id": "B2snDxidhNZF"
      }
    },
    {
      "cell_type": "code",
      "source": [
        "#1->How do you create a 2D NumPy array and calculate the sum of each row?\n",
        "\n",
        "import numpy as np\n",
        "\n",
        "# Create a 2D NumPy array\n",
        "arr = np.array([[1, 2, 3],\n",
        "                [4, 5, 6],\n",
        "                [7, 8, 9]])\n",
        "\n",
        "print(\"Array:\")\n",
        "print(arr)\n",
        "\n",
        "# Calculate sum of each row\n",
        "row_sums = np.sum(arr, axis=1)\n",
        "\n",
        "print(\"Sum of each row:\", row_sums)\n"
      ],
      "metadata": {
        "colab": {
          "base_uri": "https://localhost:8080/"
        },
        "id": "999hJP9zhTSq",
        "outputId": "172f099f-cf43-4bbb-bcb9-989d800616b9"
      },
      "execution_count": 1,
      "outputs": [
        {
          "output_type": "stream",
          "name": "stdout",
          "text": [
            "Array:\n",
            "[[1 2 3]\n",
            " [4 5 6]\n",
            " [7 8 9]]\n",
            "Sum of each row: [ 6 15 24]\n"
          ]
        }
      ]
    },
    {
      "cell_type": "code",
      "source": [
        "#2-> Write a Pandas script to find the mean of a specific column in a DataFrame?\n",
        "\n",
        "import pandas as pd\n",
        "\n",
        "# Sample DataFrame\n",
        "data = {\n",
        "    'Name': ['Gunjan', 'Meena', 'Charlie', 'Davinaaa'],\n",
        "    'Age': [25, 30, 35, 40],\n",
        "    'Salary': [50000, 60000, 55000, 65000]\n",
        "}\n",
        "\n",
        "df = pd.DataFrame(data)\n",
        "\n",
        "# Find the mean of a specific column (e.g., 'Salary')\n",
        "mean_salary = df['Salary'].mean()\n",
        "\n",
        "print(\"Mean Salary:\", mean_salary)\n"
      ],
      "metadata": {
        "colab": {
          "base_uri": "https://localhost:8080/"
        },
        "id": "8RCHewrMhipG",
        "outputId": "ae57d321-0f2b-4289-a49e-0246b61d96b3"
      },
      "execution_count": 2,
      "outputs": [
        {
          "output_type": "stream",
          "name": "stdout",
          "text": [
            "Mean Salary: 57500.0\n"
          ]
        }
      ]
    },
    {
      "cell_type": "code",
      "source": [
        "#3->Create a scatter plot using Matplotlib?\n",
        "\n",
        "import matplotlib.pyplot as plt\n",
        "\n",
        "# Sample data\n",
        "x = [5, 7, 8, 7, 6, 9, 5, 6, 7, 8]\n",
        "y = [99, 86, 87, 88, 100, 86, 103, 87, 94, 78]\n",
        "\n",
        "# Create scatter plot\n",
        "plt.scatter(x, y, color='blue', marker='o')\n",
        "\n",
        "# Add labels and title\n",
        "plt.xlabel(\"X Values\")\n",
        "plt.ylabel(\"Y Values\")\n",
        "plt.title(\"Sample Scatter Plot\")\n",
        "\n",
        "# Show the plot\n",
        "plt.show()\n"
      ],
      "metadata": {
        "colab": {
          "base_uri": "https://localhost:8080/",
          "height": 472
        },
        "id": "Hu3SaJXth86j",
        "outputId": "d1436cb0-c394-46b7-b171-59ee75f8e4b1"
      },
      "execution_count": 3,
      "outputs": [
        {
          "output_type": "display_data",
          "data": {
            "text/plain": [
              "<Figure size 640x480 with 1 Axes>"
            ],
            "image/png": "[encoded data removed]"
          },
          "metadata": {}
        }
      ]
    },
    {
      "cell_type": "code",
      "source": [
        "#4->How do you calculate the correlation matrix using Seaborn and visualize it with a heatmap?\n",
        "\n",
        "import pandas as pd\n",
        "import seaborn as sns\n",
        "import matplotlib.pyplot as plt\n",
        "\n",
        "# Sample DataFrame\n",
        "data = {\n",
        "    'A': [1, 2, 3, 4, 5],\n",
        "    'B': [5, 4, 3, 2, 1],\n",
        "    'C': [2, 3, 4, 5, 6]\n",
        "}\n",
        "df = pd.DataFrame(data)\n",
        "\n",
        "# Calculate correlation matrix\n",
        "corr_matrix = df.corr()\n",
        "\n",
        "# Create heatmap\n",
        "sns.heatmap(corr_matrix, annot=True, cmap='coolwarm', linewidths=0.5)\n",
        "\n",
        "# Add title\n",
        "plt.title(\"Correlation Matrix Heatmap\")\n",
        "\n",
        "# Show plot\n",
        "plt.show()\n",
        "\n"
      ],
      "metadata": {
        "colab": {
          "base_uri": "https://localhost:8080/",
          "height": 452
        },
        "id": "vbZ8YSy5iI4b",
        "outputId": "d4015e20-5563-4faa-b311-6813376feaa9"
      },
      "execution_count": 4,
      "outputs": [
        {
          "output_type": "display_data",
          "data": {
            "text/plain": [
              "<Figure size 640x480 with 2 Axes>"
            ],
            "image/png": "[encoded data removed]"
          },
          "metadata": {}
        }
      ]
    },
    {
      "cell_type": "code",
      "source": [
        "#5->Generate a bar plot using Plotly?\n",
        "\n",
        "import plotly.express as px\n",
        "import pandas as pd\n",
        "\n",
        "# Sample DataFrame\n",
        "data = {\n",
        "    'City': ['Delhi', 'Mumbai', 'Chennai', 'Kolkata'],\n",
        "    'Sales': [250, 400, 300, 350]\n",
        "}\n",
        "df = pd.DataFrame(data)\n",
        "\n",
        "# Create bar plot\n",
        "fig = px.bar(df, x='City', y='Sales',\n",
        "             title='Sales by City',\n",
        "             color='Sales',  # Color bars by sales value\n",
        "             text='Sales')   # Display values on bars\n",
        "\n",
        "# Show the plot\n",
        "fig.show()\n"
      ],
      "metadata": {
        "colab": {
          "base_uri": "https://localhost:8080/",
          "height": 542
        },
        "id": "TsqEllmaiWNS",
        "outputId": "5775cbb8-f76b-46cb-b170-ff37ce0acbc8"
      },
      "execution_count": 5,
      "outputs": [
        {
          "output_type": "display_data",
          "data": {
            "text/html": [
              "<html>\n",
              "<head><meta charset=\"utf-8\" /></head>\n",
              "<body>\n",
              "    <div>            <script src=\"https://cdnjs.cloudflare.com/ajax/libs/mathjax/2.7.5/MathJax.js?config=TeX-AMS-MML_SVG\"></script><script type=\"text/javascript\">if (window.MathJax && window.MathJax.Hub && window.MathJax.Hub.Config) {window.MathJax.Hub.Config({SVG: {font: \"STIX-Web\"}});}</script>                <script type=\"text/javascript\">window.PlotlyConfig = {MathJaxConfig: 'local'};</script>\n",
              "        <script charset=\"utf-8\" src=\"https://cdn.plot.ly/plotly-2.35.2.min.js\"></script>                <div id=\"5fdd9fbc-aac0-45a4-994c-3398c8183f41\" class=\"plotly-graph-div\" style=\"height:525px; width:100%;\"></div>            <script type=\"text/javascript\">                                    window.PLOTLYENV=window.PLOTLYENV || {};                                    if (document.getElementById(\"5fdd9fbc-aac0-45a4-994c-3398c8183f41\")) {                    Plotly.newPlot(                        \"5fdd9fbc-aac0-45a4-994c-3398c8183f41\",                        [{\"alignmentgroup\":\"True\",\"hovertemplate\":\"City=%{x}\\u003cbr\\u003eSales=%{marker.color}\\u003cextra\\u003e\\u003c\\u002fextra\\u003e\",\"legendgroup\":\"\",\"marker\":{\"color\":[250,400,300,350],\"coloraxis\":\"coloraxis\",\"pattern\":{\"shape\":\"\"}},\"name\":\"\",\"offsetgroup\":\"\",\"orientation\":\"v\",\"showlegend\":false,\"text\":[250.0,400.0,300.0,350.0],\"textposition\":\"auto\",\"x\":[\"Delhi\",\"Mumbai\",\"Chennai\",\"Kolkata\"],\"xaxis\":\"x\",\"y\":[250,400,300,350],\"yaxis\":\"y\",\"type\":\"bar\"}],                        {\"template\":{\"data\":{\"histogram2dcontour\":[{\"type\":\"histogram2dcontour\",\"colorbar\":{\"outlinewidth\":0,\"ticks\":\"\"},\"colorscale\":[[0.0,\"#0d0887\"],[0.1111111111111111,\"#46039f\"],[0.2222222222222222,\"#7201a8\"],[0.3333333333333333,\"#9c179e\"],[0.4444444444444444,\"#bd3786\"],[0.5555555555555556,\"#d8576b\"],[0.6666666666666666,\"#ed7953\"],[0.7777777777777778,\"#fb9f3a\"],[0.8888888888888888,\"#fdca26\"],[1.0,\"#f0f921\"]]}],\"choropleth\":[{\"type\":\"choropleth\",\"colorbar\":{\"outlinewidth\":0,\"ticks\":\"\"}}],\"histogram2d\":[{\"type\":\"histogram2d\",\"colorbar\":{\"outlinewidth\":0,\"ticks\":\"\"},\"colorscale\":[[0.0,\"#0d0887\"],[0.1111111111111111,\"#46039f\"],[0.2222222222222222,\"#7201a8\"],[0.3333333333333333,\"#9c179e\"],[0.4444444444444444,\"#bd3786\"],[0.5555555555555556,\"#d8576b\"],[0.6666666666666666,\"#ed7953\"],[0.7777777777777778,\"#fb9f3a\"],[0.8888888888888888,\"#fdca26\"],[1.0,\"#f0f921\"]]}],\"heatmap\":[{\"type\":\"heatmap\",\"colorbar\":{\"outlinewidth\":0,\"ticks\":\"\"},\"colorscale\":[[0.0,\"#0d0887\"],[0.1111111111111111,\"#46039f\"],[0.2222222222222222,\"#7201a8\"],[0.3333333333333333,\"#9c179e\"],[0.4444444444444444,\"#bd3786\"],[0.5555555555555556,\"#d8576b\"],[0.6666666666666666,\"#ed7953\"],[0.7777777777777778,\"#fb9f3a\"],[0.8888888888888888,\"#fdca26\"],[1.0,\"#f0f921\"]]}],\"heatmapgl\":[{\"type\":\"heatmapgl\",\"colorbar\":{\"outlinewidth\":0,\"ticks\":\"\"},\"colorscale\":[[0.0,\"#0d0887\"],[0.1111111111111111,\"#46039f\"],[0.2222222222222222,\"#7201a8\"],[0.3333333333333333,\"#9c179e\"],[0.4444444444444444,\"#bd3786\"],[0.5555555555555556,\"#d8576b\"],[0.6666666666666666,\"#ed7953\"],[0.7777777777777778,\"#fb9f3a\"],[0.8888888888888888,\"#fdca26\"],[1.0,\"#f0f921\"]]}],\"contourcarpet\":[{\"type\":\"contourcarpet\",\"colorbar\":{\"outlinewidth\":0,\"ticks\":\"\"}}],\"contour\":[{\"type\":\"contour\",\"colorbar\":{\"outlinewidth\":0,\"ticks\":\"\"},\"colorscale\":[[0.0,\"#0d0887\"],[0.1111111111111111,\"#46039f\"],[0.2222222222222222,\"#7201a8\"],[0.3333333333333333,\"#9c179e\"],[0.4444444444444444,\"#bd3786\"],[0.5555555555555556,\"#d8576b\"],[0.6666666666666666,\"#ed7953\"],[0.7777777777777778,\"#fb9f3a\"],[0.8888888888888888,\"#fdca26\"],[1.0,\"#f0f921\"]]}],\"surface\":[{\"type\":\"surface\",\"colorbar\":{\"outlinewidth\":0,\"ticks\":\"\"},\"colorscale\":[[0.0,\"#0d0887\"],[0.1111111111111111,\"#46039f\"],[0.2222222222222222,\"#7201a8\"],[0.3333333333333333,\"#9c179e\"],[0.4444444444444444,\"#bd3786\"],[0.5555555555555556,\"#d8576b\"],[0.6666666666666666,\"#ed7953\"],[0.7777777777777778,\"#fb9f3a\"],[0.8888888888888888,\"#fdca26\"],[1.0,\"#f0f921\"]]}],\"mesh3d\":[{\"type\":\"mesh3d\",\"colorbar\":{\"outlinewidth\":0,\"ticks\":\"\"}}],\"scatter\":[{\"fillpattern\":{\"fillmode\":\"overlay\",\"size\":10,\"solidity\":0.2},\"type\":\"scatter\"}],\"parcoords\":[{\"type\":\"parcoords\",\"line\":{\"colorbar\":{\"outlinewidth\":0,\"ticks\":\"\"}}}],\"scatterpolargl\":[{\"type\":\"scatterpolargl\",\"marker\":{\"colorbar\":{\"outlinewidth\":0,\"ticks\":\"\"}}}],\"bar\":[{\"error_x\":{\"color\":\"#2a3f5f\"},\"error_y\":{\"color\":\"#2a3f5f\"},\"marker\":{\"line\":{\"color\":\"#E5ECF6\",\"width\":0.5},\"pattern\":{\"fillmode\":\"overlay\",\"size\":10,\"solidity\":0.2}},\"type\":\"bar\"}],\"scattergeo\":[{\"type\":\"scattergeo\",\"marker\":{\"colorbar\":{\"outlinewidth\":0,\"ticks\":\"\"}}}],\"scatterpolar\":[{\"type\":\"scatterpolar\",\"marker\":{\"colorbar\":{\"outlinewidth\":0,\"ticks\":\"\"}}}],\"histogram\":[{\"marker\":{\"pattern\":{\"fillmode\":\"overlay\",\"size\":10,\"solidity\":0.2}},\"type\":\"histogram\"}],\"scattergl\":[{\"type\":\"scattergl\",\"marker\":{\"colorbar\":{\"outlinewidth\":0,\"ticks\":\"\"}}}],\"scatter3d\":[{\"type\":\"scatter3d\",\"line\":{\"colorbar\":{\"outlinewidth\":0,\"ticks\":\"\"}},\"marker\":{\"colorbar\":{\"outlinewidth\":0,\"ticks\":\"\"}}}],\"scattermapbox\":[{\"type\":\"scattermapbox\",\"marker\":{\"colorbar\":{\"outlinewidth\":0,\"ticks\":\"\"}}}],\"scatterternary\":[{\"type\":\"scatterternary\",\"marker\":{\"colorbar\":{\"outlinewidth\":0,\"ticks\":\"\"}}}],\"scattercarpet\":[{\"type\":\"scattercarpet\",\"marker\":{\"colorbar\":{\"outlinewidth\":0,\"ticks\":\"\"}}}],\"carpet\":[{\"aaxis\":{\"endlinecolor\":\"#2a3f5f\",\"gridcolor\":\"white\",\"linecolor\":\"white\",\"minorgridcolor\":\"white\",\"startlinecolor\":\"#2a3f5f\"},\"baxis\":{\"endlinecolor\":\"#2a3f5f\",\"gridcolor\":\"white\",\"linecolor\":\"white\",\"minorgridcolor\":\"white\",\"startlinecolor\":\"#2a3f5f\"},\"type\":\"carpet\"}],\"table\":[{\"cells\":{\"fill\":{\"color\":\"#EBF0F8\"},\"line\":{\"color\":\"white\"}},\"header\":{\"fill\":{\"color\":\"#C8D4E3\"},\"line\":{\"color\":\"white\"}},\"type\":\"table\"}],\"barpolar\":[{\"marker\":{\"line\":{\"color\":\"#E5ECF6\",\"width\":0.5},\"pattern\":{\"fillmode\":\"overlay\",\"size\":10,\"solidity\":0.2}},\"type\":\"barpolar\"}],\"pie\":[{\"automargin\":true,\"type\":\"pie\"}]},\"layout\":{\"autotypenumbers\":\"strict\",\"colorway\":[\"#636efa\",\"#EF553B\",\"#00cc96\",\"#ab63fa\",\"#FFA15A\",\"#19d3f3\",\"#FF6692\",\"#B6E880\",\"#FF97FF\",\"#FECB52\"],\"font\":{\"color\":\"#2a3f5f\"},\"hovermode\":\"closest\",\"hoverlabel\":{\"align\":\"left\"},\"paper_bgcolor\":\"white\",\"plot_bgcolor\":\"#E5ECF6\",\"polar\":{\"bgcolor\":\"#E5ECF6\",\"angularaxis\":{\"gridcolor\":\"white\",\"linecolor\":\"white\",\"ticks\":\"\"},\"radialaxis\":{\"gridcolor\":\"white\",\"linecolor\":\"white\",\"ticks\":\"\"}},\"ternary\":{\"bgcolor\":\"#E5ECF6\",\"aaxis\":{\"gridcolor\":\"white\",\"linecolor\":\"white\",\"ticks\":\"\"},\"baxis\":{\"gridcolor\":\"white\",\"linecolor\":\"white\",\"ticks\":\"\"},\"caxis\":{\"gridcolor\":\"white\",\"linecolor\":\"white\",\"ticks\":\"\"}},\"coloraxis\":{\"colorbar\":{\"outlinewidth\":0,\"ticks\":\"\"}},\"colorscale\":{\"sequential\":[[0.0,\"#0d0887\"],[0.1111111111111111,\"#46039f\"],[0.2222222222222222,\"#7201a8\"],[0.3333333333333333,\"#9c179e\"],[0.4444444444444444,\"#bd3786\"],[0.5555555555555556,\"#d8576b\"],[0.6666666666666666,\"#ed7953\"],[0.7777777777777778,\"#fb9f3a\"],[0.8888888888888888,\"#fdca26\"],[1.0,\"#f0f921\"]],\"sequentialminus\":[[0.0,\"#0d0887\"],[0.1111111111111111,\"#46039f\"],[0.2222222222222222,\"#7201a8\"],[0.3333333333333333,\"#9c179e\"],[0.4444444444444444,\"#bd3786\"],[0.5555555555555556,\"#d8576b\"],[0.6666666666666666,\"#ed7953\"],[0.7777777777777778,\"#fb9f3a\"],[0.8888888888888888,\"#fdca26\"],[1.0,\"#f0f921\"]],\"diverging\":[[0,\"#8e0152\"],[0.1,\"#c51b7d\"],[0.2,\"#de77ae\"],[0.3,\"#f1b6da\"],[0.4,\"#fde0ef\"],[0.5,\"#f7f7f7\"],[0.6,\"#e6f5d0\"],[0.7,\"#b8e186\"],[0.8,\"#7fbc41\"],[0.9,\"#4d9221\"],[1,\"#276419\"]]},\"xaxis\":{\"gridcolor\":\"white\",\"linecolor\":\"white\",\"ticks\":\"\",\"title\":{\"standoff\":15},\"zerolinecolor\":\"white\",\"automargin\":true,\"zerolinewidth\":2},\"yaxis\":{\"gridcolor\":\"white\",\"linecolor\":\"white\",\"ticks\":\"\",\"title\":{\"standoff\":15},\"zerolinecolor\":\"white\",\"automargin\":true,\"zerolinewidth\":2},\"scene\":{\"xaxis\":{\"backgroundcolor\":\"#E5ECF6\",\"gridcolor\":\"white\",\"linecolor\":\"white\",\"showbackground\":true,\"ticks\":\"\",\"zerolinecolor\":\"white\",\"gridwidth\":2},\"yaxis\":{\"backgroundcolor\":\"#E5ECF6\",\"gridcolor\":\"white\",\"linecolor\":\"white\",\"showbackground\":true,\"ticks\":\"\",\"zerolinecolor\":\"white\",\"gridwidth\":2},\"zaxis\":{\"backgroundcolor\":\"#E5ECF6\",\"gridcolor\":\"white\",\"linecolor\":\"white\",\"showbackground\":true,\"ticks\":\"\",\"zerolinecolor\":\"white\",\"gridwidth\":2}},\"shapedefaults\":{\"line\":{\"color\":\"#2a3f5f\"}},\"annotationdefaults\":{\"arrowcolor\":\"#2a3f5f\",\"arrowhead\":0,\"arrowwidth\":1},\"geo\":{\"bgcolor\":\"white\",\"landcolor\":\"#E5ECF6\",\"subunitcolor\":\"white\",\"showland\":true,\"showlakes\":true,\"lakecolor\":\"white\"},\"title\":{\"x\":0.05},\"mapbox\":{\"style\":\"light\"}}},\"xaxis\":{\"anchor\":\"y\",\"domain\":[0.0,1.0],\"title\":{\"text\":\"City\"}},\"yaxis\":{\"anchor\":\"x\",\"domain\":[0.0,1.0],\"title\":{\"text\":\"Sales\"}},\"coloraxis\":{\"colorbar\":{\"title\":{\"text\":\"Sales\"}},\"colorscale\":[[0.0,\"#0d0887\"],[0.1111111111111111,\"#46039f\"],[0.2222222222222222,\"#7201a8\"],[0.3333333333333333,\"#9c179e\"],[0.4444444444444444,\"#bd3786\"],[0.5555555555555556,\"#d8576b\"],[0.6666666666666666,\"#ed7953\"],[0.7777777777777778,\"#fb9f3a\"],[0.8888888888888888,\"#fdca26\"],[1.0,\"#f0f921\"]]},\"legend\":{\"tracegroupgap\":0},\"title\":{\"text\":\"Sales by City\"},\"barmode\":\"relative\"},                        {\"responsive\": true}                    ).then(function(){\n",
              "                            \n",
              "var gd = document.getElementById('5fdd9fbc-aac0-45a4-994c-3398c8183f41');\n",
              "var x = new MutationObserver(function (mutations, observer) {{\n",
              "        var display = window.getComputedStyle(gd).display;\n",
              "        if (!display || display === 'none') {{\n",
              "            console.log([gd, 'removed!']);\n",
              "            Plotly.purge(gd);\n",
              "            observer.disconnect();\n",
              "        }}\n",
              "}});\n",
              "\n",
              "// Listen for the removal of the full notebook cells\n",
              "var notebookContainer = gd.closest('#notebook-container');\n",
              "if (notebookContainer) {{\n",
              "    x.observe(notebookContainer, {childList: true});\n",
              "}}\n",
              "\n",
              "// Listen for the clearing of the current output cell\n",
              "var outputEl = gd.closest('.output');\n",
              "if (outputEl) {{\n",
              "    x.observe(outputEl, {childList: true});\n",
              "}}\n",
              "\n",
              "                        })                };                            </script>        </div>\n",
              "</body>\n",
              "</html>"
            ]
          },
          "metadata": {}
        }
      ]
    },
    {
      "cell_type": "code",
      "source": [
        "#6->Create a DataFrame and add a new column based on an existing column??\n",
        "\n",
        "import pandas as pd\n",
        "\n",
        "# Create a sample DataFrame\n",
        "data = {\n",
        "    'Name': ['Gunjan', 'Bobby', 'Charu', 'Davinaa'],\n",
        "    'Salary': [50000, 60000, 55000, 65000]\n",
        "}\n",
        "df = pd.DataFrame(data)\n",
        "\n",
        "# Add a new column 'Bonus' which is 10% of Salary\n",
        "df['Bonus'] = df['Salary'] * 0.10\n",
        "\n",
        "print(df)\n"
      ],
      "metadata": {
        "colab": {
          "base_uri": "https://localhost:8080/"
        },
        "id": "zMxeHmqviiDo",
        "outputId": "fdf3c95d-f207-4857-a67e-b30ffeaa5374"
      },
      "execution_count": 1,
      "outputs": [
        {
          "output_type": "stream",
          "name": "stdout",
          "text": [
            "      Name  Salary   Bonus\n",
            "0   Gunjan   50000  5000.0\n",
            "1    Bobby   60000  6000.0\n",
            "2    Charu   55000  5500.0\n",
            "3  Davinaa   65000  6500.0\n"
          ]
        }
      ]
    },
    {
      "cell_type": "code",
      "source": [
        "#7-> Write a program to perform element-wise multiplication of two NumPy arrays?\n",
        "\n",
        "import numpy as np\n",
        "\n",
        "# Create two sample arrays\n",
        "arr1 = np.array([1, 2, 3, 4])\n",
        "arr2 = np.array([5, 6, 7, 8])\n",
        "\n",
        "# Element-wise multiplication\n",
        "result = arr1 * arr2   # or np.multiply(arr1, arr2)\n",
        "\n",
        "# Display results\n",
        "print(\"Array 1:\", arr1)\n",
        "print(\"Array 2:\", arr2)\n",
        "print(\"Element-wise Multiplication:\", result)\n"
      ],
      "metadata": {
        "colab": {
          "base_uri": "https://localhost:8080/"
        },
        "id": "91utl7k-jh2C",
        "outputId": "17539671-ec36-49b2-98ea-bba447f502d3"
      },
      "execution_count": 2,
      "outputs": [
        {
          "output_type": "stream",
          "name": "stdout",
          "text": [
            "Array 1: [1 2 3 4]\n",
            "Array 2: [5 6 7 8]\n",
            "Element-wise Multiplication: [ 5 12 21 32]\n"
          ]
        }
      ]
    },
    {
      "cell_type": "code",
      "source": [
        "#8->Create a line plot with multiple lines using Matplotlib?\n",
        "\n",
        "import matplotlib.pyplot as plt\n",
        "\n",
        "# Sample data\n",
        "x = [1, 2, 3, 4, 5]\n",
        "y1 = [2, 4, 6, 8, 10]   # First line\n",
        "y2 = [1, 3, 5, 7, 9]    # Second line\n",
        "\n",
        "# Plot multiple lines\n",
        "plt.plot(x, y1, label='Line 1', color='blue', marker='o')\n",
        "plt.plot(x, y2, label='Line 2', color='red', marker='s')\n",
        "\n",
        "# Add labels, title, and legend\n",
        "plt.xlabel(\"X-axis\")\n",
        "plt.ylabel(\"Y-axis\")\n",
        "plt.title(\"Multiple Line Plot\")\n",
        "plt.legend()\n",
        "plt.grid(True)\n",
        "\n",
        "# Show the plot\n",
        "plt.show()\n"
      ],
      "metadata": {
        "colab": {
          "base_uri": "https://localhost:8080/",
          "height": 472
        },
        "id": "1G6Ax6x9j-_s",
        "outputId": "9630f088-0ed2-4e3e-d85f-dcaccbacece5"
      },
      "execution_count": 3,
      "outputs": [
        {
          "output_type": "display_data",
          "data": {
            "text/plain": [
              "<Figure size 640x480 with 1 Axes>"
            ],
            "image/png": "[encoded data removed]"
          },
          "metadata": {}
        }
      ]
    },
    {
      "cell_type": "code",
      "source": [
        "#9->Generate a Pandas DataFrame and filter rows where a column value is greater than a threshold?\n",
        "\n",
        "import pandas as pd\n",
        "\n",
        "# Create sample DataFrame\n",
        "data = {\n",
        "    'Name': ['Aliya', 'Bobb', 'Charu', 'Davinn', 'Evelyn'],\n",
        "    'Score': [85, 72, 90, 60, 95]\n",
        "}\n",
        "df = pd.DataFrame(data)\n",
        "\n",
        "# Define threshold\n",
        "threshold = 80\n",
        "\n",
        "# Filter rows where 'Score' > threshold\n",
        "filtered_df = df[df['Score'] > threshold]\n",
        "\n",
        "print(\"Original DataFrame:\\n\", df)\n",
        "print(\"\\nFiltered DataFrame (Score > 80):\\n\", filtered_df)\n"
      ],
      "metadata": {
        "colab": {
          "base_uri": "https://localhost:8080/"
        },
        "id": "7Kvn_jmkkpwD",
        "outputId": "c2bd891c-d13b-44ad-ea35-ed2f3338928e"
      },
      "execution_count": 4,
      "outputs": [
        {
          "output_type": "stream",
          "name": "stdout",
          "text": [
            "Original DataFrame:\n",
            "      Name  Score\n",
            "0   Aliya     85\n",
            "1    Bobb     72\n",
            "2   Charu     90\n",
            "3  Davinn     60\n",
            "4  Evelyn     95\n",
            "\n",
            "Filtered DataFrame (Score > 80):\n",
            "      Name  Score\n",
            "0   Aliya     85\n",
            "2   Charu     90\n",
            "4  Evelyn     95\n"
          ]
        }
      ]
    },
    {
      "cell_type": "code",
      "source": [
        "#10->Create a histogram using Seaborn to visualize a distribution?\n",
        "\n",
        "import seaborn as sns\n",
        "import matplotlib.pyplot as plt\n",
        "import pandas as pd\n",
        "import numpy as np\n",
        "\n",
        "# Create sample data\n",
        "data = pd.DataFrame({\n",
        "    'Age': np.random.randint(18, 60, size=100)  # 100 random ages\n",
        "})\n",
        "\n",
        "# Create histogram\n",
        "sns.histplot(data=data, x='Age', bins=10, kde=True, color='skyblue')\n",
        "\n",
        "# Add labels and title\n",
        "plt.title(\"Age Distribution\")\n",
        "plt.xlabel(\"Age\")\n",
        "plt.ylabel(\"Frequency\")\n",
        "\n",
        "# Show the plot\n",
        "plt.show()\n"
      ],
      "metadata": {
        "colab": {
          "base_uri": "https://localhost:8080/",
          "height": 472
        },
        "id": "BF2iHyfelAlp",
        "outputId": "cc21fe5a-ddcf-40c8-f2df-ce7a70db5fed"
      },
      "execution_count": 5,
      "outputs": [
        {
          "output_type": "display_data",
          "data": {
            "text/plain": [
              "<Figure size 640x480 with 1 Axes>"
            ],
            "image/png": "[encoded data removed]"
          },
          "metadata": {}
        }
      ]
    },
    {
      "cell_type": "code",
      "source": [
        "#11->Perform matrix multiplication using NumPy?\n",
        "\n",
        "import numpy as np\n",
        "\n",
        "# Create two matrices\n",
        "A = np.array([[1, 2],\n",
        "              [3, 4]])\n",
        "B = np.array([[5, 6],\n",
        "              [7, 8]])\n",
        "\n",
        "# Matrix multiplication\n",
        "result = np.dot(A, B)       # Method 1\n",
        "# result = A @ B            # Method 2 (Python 3.5+)\n",
        "\n",
        "# Display results\n",
        "print(\"Matrix A:\\n\", A)\n",
        "print(\"Matrix B:\\n\", B)\n",
        "print(\"Matrix Multiplication Result:\\n\", result)\n"
      ],
      "metadata": {
        "colab": {
          "base_uri": "https://localhost:8080/"
        },
        "id": "wJoKTDjHlOwV",
        "outputId": "55d2d980-e038-455a-ba55-a3798b0c6555"
      },
      "execution_count": 6,
      "outputs": [
        {
          "output_type": "stream",
          "name": "stdout",
          "text": [
            "Matrix A:\n",
            " [[1 2]\n",
            " [3 4]]\n",
            "Matrix B:\n",
            " [[5 6]\n",
            " [7 8]]\n",
            "Matrix Multiplication Result:\n",
            " [[19 22]\n",
            " [43 50]]\n"
          ]
        }
      ]
    },
    {
      "cell_type": "code",
      "source": [
        "#12->Use Pandas to load a CSV file and display its first 5 rows?\n",
        "\n",
        "import pandas as pd\n",
        "\n",
        "# Create a sample DataFrame\n",
        "data = {'col1': [1, 2, 3, 4, 5, 6, 7, 8, 9, 10],\n",
        "        'col2': ['A', 'B', 'C', 'D', 'E', 'F', 'G', 'H', 'I', 'J']}\n",
        "df = pd.DataFrame(data)\n",
        "\n",
        "# Display the first 5 rows\n",
        "print(df.head())"
      ],
      "metadata": {
        "colab": {
          "base_uri": "https://localhost:8080/"
        },
        "id": "F-BZzcjpmQS7",
        "outputId": "7d55f901-889f-4de0-ec8d-14db2ceba2fb"
      },
      "execution_count": 18,
      "outputs": [
        {
          "output_type": "stream",
          "name": "stdout",
          "text": [
            "   col1 col2\n",
            "0     1    A\n",
            "1     2    B\n",
            "2     3    C\n",
            "3     4    D\n",
            "4     5    E\n"
          ]
        }
      ]
    },
    {
      "cell_type": "code",
      "source": [
        "#13-> Create a 3D scatter plot using Plotly.\n",
        "\n",
        "import plotly.express as px\n",
        "import pandas as pd\n",
        "import numpy as np\n",
        "\n",
        "# Create sample data\n",
        "np.random.seed(42)\n",
        "df = pd.DataFrame({\n",
        "    'X': np.random.rand(50),\n",
        "    'Y': np.random.rand(50),\n",
        "    'Z': np.random.rand(50),\n",
        "    'Category': np.random.choice(['A', 'B', 'C'], size=50)\n",
        "})\n",
        "\n",
        "# Create 3D scatter plot\n",
        "fig = px.scatter_3d(\n",
        "    df,\n",
        "    x='X',\n",
        "    y='Y',\n",
        "    z='Z',\n",
        "    color='Category',\n",
        "    size_max=10,\n",
        "    opacity=0.7,\n",
        "    title=\"3D Scatter Plot Example\"\n",
        ")\n",
        "\n",
        "# Show the plot\n",
        "fig.show()\n"
      ],
      "metadata": {
        "colab": {
          "base_uri": "https://localhost:8080/",
          "height": 542
        },
        "id": "8423fuAcpIFm",
        "outputId": "ebc9225a-f2ee-4c7e-fd30-5e6281c18c11"
      },
      "execution_count": 19,
      "outputs": [
        {
          "output_type": "display_data",
          "data": {
            "text/html": [
              "<html>\n",
              "<head><meta charset=\"utf-8\" /></head>\n",
              "<body>\n",
              "    <div>            <script src=\"https://cdnjs.cloudflare.com/ajax/libs/mathjax/2.7.5/MathJax.js?config=TeX-AMS-MML_SVG\"></script><script type=\"text/javascript\">if (window.MathJax && window.MathJax.Hub && window.MathJax.Hub.Config) {window.MathJax.Hub.Config({SVG: {font: \"STIX-Web\"}});}</script>                <script type=\"text/javascript\">window.PlotlyConfig = {MathJaxConfig: 'local'};</script>\n",
              "        <script charset=\"utf-8\" src=\"https://cdn.plot.ly/plotly-2.35.2.min.js\"></script>                <div id=\"91c6c630-988d-48e1-973f-57f8b3facd75\" class=\"plotly-graph-div\" style=\"height:525px; width:100%;\"></div>            <script type=\"text/javascript\">                                    window.PLOTLYENV=window.PLOTLYENV || {};                                    if (document.getElementById(\"91c6c630-988d-48e1-973f-57f8b3facd75\")) {                    Plotly.newPlot(                        \"91c6c630-988d-48e1-973f-57f8b3facd75\",                        [{\"hovertemplate\":\"Category=A\\u003cbr\\u003eX=%{x}\\u003cbr\\u003eY=%{y}\\u003cbr\\u003eZ=%{z}\\u003cextra\\u003e\\u003c\\u002fextra\\u003e\",\"legendgroup\":\"A\",\"marker\":{\"color\":\"#636efa\",\"opacity\":0.7,\"symbol\":\"circle\"},\"mode\":\"markers\",\"name\":\"A\",\"scene\":\"scene\",\"showlegend\":true,\"x\":[0.3745401188473625,0.9507143064099162,0.15599452033620265,0.8324426408004217,0.18340450985343382,0.13949386065204183,0.29214464853521815,0.7851759613930136,0.9656320330745594,0.8083973481164611,0.6842330265121569,0.12203823484477883,0.4951769101112702],\"y\":[0.9695846277645586,0.7751328233611146,0.9218742350231168,0.8287375091519293,0.5426960831582485,0.1987156815341724,0.005522117123602399,0.7290071680409873,0.3109823217156622,0.32518332202674705,0.8872127425763265,0.1195942459383017,0.713244787222995],\"z\":[0.03142918568673425,0.6364104112637804,0.24929222914887494,0.9296976523425731,0.8714605901877177,0.8960912999234932,0.3180034749718639,0.4271077886262563,0.9429097039125192,0.32320293202075523,0.363629602379294,0.9624472949421112,0.25178229582536416],\"type\":\"scatter3d\"},{\"hovertemplate\":\"Category=C\\u003cbr\\u003eX=%{x}\\u003cbr\\u003eY=%{y}\\u003cbr\\u003eZ=%{z}\\u003cextra\\u003e\\u003c\\u002fextra\\u003e\",\"legendgroup\":\"C\",\"marker\":{\"color\":\"#EF553B\",\"opacity\":0.7,\"symbol\":\"circle\"},\"mode\":\"markers\",\"name\":\"C\",\"scene\":\"scene\",\"showlegend\":true,\"x\":[0.7319939418114051,0.6011150117432088,0.7080725777960455,0.020584494295802447,0.9699098521619943,0.21233911067827616,0.2912291401980419,0.6118528947223795,0.3663618432936917,0.19967378215835974,0.5142344384136116,0.5924145688620425,0.6075448519014384,0.17052412368729153,0.06505159298527952,0.9488855372533332,0.3046137691733707,0.4401524937396013,0.9093204020787821,0.2587799816000169,0.5200680211778108,0.5467102793432796],\"y\":[0.9394989415641891,0.045227288910538066,0.32533033076326434,0.388677289689482,0.2713490317738959,0.3567533266935893,0.9868869366005173,0.7722447692966574,0.8154614284548342,0.7712703466859457,0.07404465173409036,0.3584657285442726,0.8631034258755935,0.6232981268275579,0.3308980248526492,0.06355835028602363,0.7296061783380641,0.4722149251619493,0.5612771975694962,0.770967179954561,0.42754101835854963,0.02541912674409519],\"z\":[0.3143559810763267,0.22879816549162246,0.07697990982879299,0.289751452913768,0.16122128725400442,0.808120379564417,0.5393422419156507,0.8074401551640625,0.11005192452767676,0.8180147659224931,0.8607305832563434,0.006952130531190703,0.417411003148779,0.22210781047073025,0.1198653673336828,0.33761517140362796,0.5187906217433661,0.9717820827209607,0.30087830981676966,0.2848404943774676,0.5026790232288615,0.05147875124998935],\"type\":\"scatter3d\"},{\"hovertemplate\":\"Category=B\\u003cbr\\u003eX=%{x}\\u003cbr\\u003eY=%{y}\\u003cbr\\u003eZ=%{z}\\u003cextra\\u003e\\u003c\\u002fextra\\u003e\",\"legendgroup\":\"B\",\"marker\":{\"color\":\"#00cc96\",\"opacity\":0.7,\"symbol\":\"circle\"},\"mode\":\"markers\",\"name\":\"B\",\"scene\":\"scene\",\"showlegend\":true,\"x\":[0.5986584841970366,0.15601864044243652,0.05808361216819946,0.8661761457749352,0.18182496720710062,0.3042422429595377,0.5247564316322378,0.43194501864211576,0.45606998421703593,0.046450412719997725,0.09767211400638387,0.034388521115218396,0.662522284353982,0.31171107608941095,0.18485445552552704],\"y\":[0.8948273504276488,0.5978999788110851,0.0884925020519195,0.1959828624191452,0.28093450968738076,0.14092422497476265,0.8021969807540397,0.07455064367977082,0.7068573438476171,0.11586905952512971,0.6375574713552131,0.7607850486168974,0.49379559636439074,0.5227328293819941,0.10789142699330445],\"z\":[0.5085706911647028,0.907566473926093,0.41038292303562973,0.7555511385430487,0.6334037565104235,0.8036720768991145,0.18657005888603584,0.8925589984899778,0.22793516254194168,0.5107473025775657,0.7030189588951778,0.49724850589238545,0.036886947354532795,0.6095643339798968,0.27864646423661144],\"type\":\"scatter3d\"}],                        {\"template\":{\"data\":{\"histogram2dcontour\":[{\"type\":\"histogram2dcontour\",\"colorbar\":{\"outlinewidth\":0,\"ticks\":\"\"},\"colorscale\":[[0.0,\"#0d0887\"],[0.1111111111111111,\"#46039f\"],[0.2222222222222222,\"#7201a8\"],[0.3333333333333333,\"#9c179e\"],[0.4444444444444444,\"#bd3786\"],[0.5555555555555556,\"#d8576b\"],[0.6666666666666666,\"#ed7953\"],[0.7777777777777778,\"#fb9f3a\"],[0.8888888888888888,\"#fdca26\"],[1.0,\"#f0f921\"]]}],\"choropleth\":[{\"type\":\"choropleth\",\"colorbar\":{\"outlinewidth\":0,\"ticks\":\"\"}}],\"histogram2d\":[{\"type\":\"histogram2d\",\"colorbar\":{\"outlinewidth\":0,\"ticks\":\"\"},\"colorscale\":[[0.0,\"#0d0887\"],[0.1111111111111111,\"#46039f\"],[0.2222222222222222,\"#7201a8\"],[0.3333333333333333,\"#9c179e\"],[0.4444444444444444,\"#bd3786\"],[0.5555555555555556,\"#d8576b\"],[0.6666666666666666,\"#ed7953\"],[0.7777777777777778,\"#fb9f3a\"],[0.8888888888888888,\"#fdca26\"],[1.0,\"#f0f921\"]]}],\"heatmap\":[{\"type\":\"heatmap\",\"colorbar\":{\"outlinewidth\":0,\"ticks\":\"\"},\"colorscale\":[[0.0,\"#0d0887\"],[0.1111111111111111,\"#46039f\"],[0.2222222222222222,\"#7201a8\"],[0.3333333333333333,\"#9c179e\"],[0.4444444444444444,\"#bd3786\"],[0.5555555555555556,\"#d8576b\"],[0.6666666666666666,\"#ed7953\"],[0.7777777777777778,\"#fb9f3a\"],[0.8888888888888888,\"#fdca26\"],[1.0,\"#f0f921\"]]}],\"heatmapgl\":[{\"type\":\"heatmapgl\",\"colorbar\":{\"outlinewidth\":0,\"ticks\":\"\"},\"colorscale\":[[0.0,\"#0d0887\"],[0.1111111111111111,\"#46039f\"],[0.2222222222222222,\"#7201a8\"],[0.3333333333333333,\"#9c179e\"],[0.4444444444444444,\"#bd3786\"],[0.5555555555555556,\"#d8576b\"],[0.6666666666666666,\"#ed7953\"],[0.7777777777777778,\"#fb9f3a\"],[0.8888888888888888,\"#fdca26\"],[1.0,\"#f0f921\"]]}],\"contourcarpet\":[{\"type\":\"contourcarpet\",\"colorbar\":{\"outlinewidth\":0,\"ticks\":\"\"}}],\"contour\":[{\"type\":\"contour\",\"colorbar\":{\"outlinewidth\":0,\"ticks\":\"\"},\"colorscale\":[[0.0,\"#0d0887\"],[0.1111111111111111,\"#46039f\"],[0.2222222222222222,\"#7201a8\"],[0.3333333333333333,\"#9c179e\"],[0.4444444444444444,\"#bd3786\"],[0.5555555555555556,\"#d8576b\"],[0.6666666666666666,\"#ed7953\"],[0.7777777777777778,\"#fb9f3a\"],[0.8888888888888888,\"#fdca26\"],[1.0,\"#f0f921\"]]}],\"surface\":[{\"type\":\"surface\",\"colorbar\":{\"outlinewidth\":0,\"ticks\":\"\"},\"colorscale\":[[0.0,\"#0d0887\"],[0.1111111111111111,\"#46039f\"],[0.2222222222222222,\"#7201a8\"],[0.3333333333333333,\"#9c179e\"],[0.4444444444444444,\"#bd3786\"],[0.5555555555555556,\"#d8576b\"],[0.6666666666666666,\"#ed7953\"],[0.7777777777777778,\"#fb9f3a\"],[0.8888888888888888,\"#fdca26\"],[1.0,\"#f0f921\"]]}],\"mesh3d\":[{\"type\":\"mesh3d\",\"colorbar\":{\"outlinewidth\":0,\"ticks\":\"\"}}],\"scatter\":[{\"fillpattern\":{\"fillmode\":\"overlay\",\"size\":10,\"solidity\":0.2},\"type\":\"scatter\"}],\"parcoords\":[{\"type\":\"parcoords\",\"line\":{\"colorbar\":{\"outlinewidth\":0,\"ticks\":\"\"}}}],\"scatterpolargl\":[{\"type\":\"scatterpolargl\",\"marker\":{\"colorbar\":{\"outlinewidth\":0,\"ticks\":\"\"}}}],\"bar\":[{\"error_x\":{\"color\":\"#2a3f5f\"},\"error_y\":{\"color\":\"#2a3f5f\"},\"marker\":{\"line\":{\"color\":\"#E5ECF6\",\"width\":0.5},\"pattern\":{\"fillmode\":\"overlay\",\"size\":10,\"solidity\":0.2}},\"type\":\"bar\"}],\"scattergeo\":[{\"type\":\"scattergeo\",\"marker\":{\"colorbar\":{\"outlinewidth\":0,\"ticks\":\"\"}}}],\"scatterpolar\":[{\"type\":\"scatterpolar\",\"marker\":{\"colorbar\":{\"outlinewidth\":0,\"ticks\":\"\"}}}],\"histogram\":[{\"marker\":{\"pattern\":{\"fillmode\":\"overlay\",\"size\":10,\"solidity\":0.2}},\"type\":\"histogram\"}],\"scattergl\":[{\"type\":\"scattergl\",\"marker\":{\"colorbar\":{\"outlinewidth\":0,\"ticks\":\"\"}}}],\"scatter3d\":[{\"type\":\"scatter3d\",\"line\":{\"colorbar\":{\"outlinewidth\":0,\"ticks\":\"\"}},\"marker\":{\"colorbar\":{\"outlinewidth\":0,\"ticks\":\"\"}}}],\"scattermapbox\":[{\"type\":\"scattermapbox\",\"marker\":{\"colorbar\":{\"outlinewidth\":0,\"ticks\":\"\"}}}],\"scatterternary\":[{\"type\":\"scatterternary\",\"marker\":{\"colorbar\":{\"outlinewidth\":0,\"ticks\":\"\"}}}],\"scattercarpet\":[{\"type\":\"scattercarpet\",\"marker\":{\"colorbar\":{\"outlinewidth\":0,\"ticks\":\"\"}}}],\"carpet\":[{\"aaxis\":{\"endlinecolor\":\"#2a3f5f\",\"gridcolor\":\"white\",\"linecolor\":\"white\",\"minorgridcolor\":\"white\",\"startlinecolor\":\"#2a3f5f\"},\"baxis\":{\"endlinecolor\":\"#2a3f5f\",\"gridcolor\":\"white\",\"linecolor\":\"white\",\"minorgridcolor\":\"white\",\"startlinecolor\":\"#2a3f5f\"},\"type\":\"carpet\"}],\"table\":[{\"cells\":{\"fill\":{\"color\":\"#EBF0F8\"},\"line\":{\"color\":\"white\"}},\"header\":{\"fill\":{\"color\":\"#C8D4E3\"},\"line\":{\"color\":\"white\"}},\"type\":\"table\"}],\"barpolar\":[{\"marker\":{\"line\":{\"color\":\"#E5ECF6\",\"width\":0.5},\"pattern\":{\"fillmode\":\"overlay\",\"size\":10,\"solidity\":0.2}},\"type\":\"barpolar\"}],\"pie\":[{\"automargin\":true,\"type\":\"pie\"}]},\"layout\":{\"autotypenumbers\":\"strict\",\"colorway\":[\"#636efa\",\"#EF553B\",\"#00cc96\",\"#ab63fa\",\"#FFA15A\",\"#19d3f3\",\"#FF6692\",\"#B6E880\",\"#FF97FF\",\"#FECB52\"],\"font\":{\"color\":\"#2a3f5f\"},\"hovermode\":\"closest\",\"hoverlabel\":{\"align\":\"left\"},\"paper_bgcolor\":\"white\",\"plot_bgcolor\":\"#E5ECF6\",\"polar\":{\"bgcolor\":\"#E5ECF6\",\"angularaxis\":{\"gridcolor\":\"white\",\"linecolor\":\"white\",\"ticks\":\"\"},\"radialaxis\":{\"gridcolor\":\"white\",\"linecolor\":\"white\",\"ticks\":\"\"}},\"ternary\":{\"bgcolor\":\"#E5ECF6\",\"aaxis\":{\"gridcolor\":\"white\",\"linecolor\":\"white\",\"ticks\":\"\"},\"baxis\":{\"gridcolor\":\"white\",\"linecolor\":\"white\",\"ticks\":\"\"},\"caxis\":{\"gridcolor\":\"white\",\"linecolor\":\"white\",\"ticks\":\"\"}},\"coloraxis\":{\"colorbar\":{\"outlinewidth\":0,\"ticks\":\"\"}},\"colorscale\":{\"sequential\":[[0.0,\"#0d0887\"],[0.1111111111111111,\"#46039f\"],[0.2222222222222222,\"#7201a8\"],[0.3333333333333333,\"#9c179e\"],[0.4444444444444444,\"#bd3786\"],[0.5555555555555556,\"#d8576b\"],[0.6666666666666666,\"#ed7953\"],[0.7777777777777778,\"#fb9f3a\"],[0.8888888888888888,\"#fdca26\"],[1.0,\"#f0f921\"]],\"sequentialminus\":[[0.0,\"#0d0887\"],[0.1111111111111111,\"#46039f\"],[0.2222222222222222,\"#7201a8\"],[0.3333333333333333,\"#9c179e\"],[0.4444444444444444,\"#bd3786\"],[0.5555555555555556,\"#d8576b\"],[0.6666666666666666,\"#ed7953\"],[0.7777777777777778,\"#fb9f3a\"],[0.8888888888888888,\"#fdca26\"],[1.0,\"#f0f921\"]],\"diverging\":[[0,\"#8e0152\"],[0.1,\"#c51b7d\"],[0.2,\"#de77ae\"],[0.3,\"#f1b6da\"],[0.4,\"#fde0ef\"],[0.5,\"#f7f7f7\"],[0.6,\"#e6f5d0\"],[0.7,\"#b8e186\"],[0.8,\"#7fbc41\"],[0.9,\"#4d9221\"],[1,\"#276419\"]]},\"xaxis\":{\"gridcolor\":\"white\",\"linecolor\":\"white\",\"ticks\":\"\",\"title\":{\"standoff\":15},\"zerolinecolor\":\"white\",\"automargin\":true,\"zerolinewidth\":2},\"yaxis\":{\"gridcolor\":\"white\",\"linecolor\":\"white\",\"ticks\":\"\",\"title\":{\"standoff\":15},\"zerolinecolor\":\"white\",\"automargin\":true,\"zerolinewidth\":2},\"scene\":{\"xaxis\":{\"backgroundcolor\":\"#E5ECF6\",\"gridcolor\":\"white\",\"linecolor\":\"white\",\"showbackground\":true,\"ticks\":\"\",\"zerolinecolor\":\"white\",\"gridwidth\":2},\"yaxis\":{\"backgroundcolor\":\"#E5ECF6\",\"gridcolor\":\"white\",\"linecolor\":\"white\",\"showbackground\":true,\"ticks\":\"\",\"zerolinecolor\":\"white\",\"gridwidth\":2},\"zaxis\":{\"backgroundcolor\":\"#E5ECF6\",\"gridcolor\":\"white\",\"linecolor\":\"white\",\"showbackground\":true,\"ticks\":\"\",\"zerolinecolor\":\"white\",\"gridwidth\":2}},\"shapedefaults\":{\"line\":{\"color\":\"#2a3f5f\"}},\"annotationdefaults\":{\"arrowcolor\":\"#2a3f5f\",\"arrowhead\":0,\"arrowwidth\":1},\"geo\":{\"bgcolor\":\"white\",\"landcolor\":\"#E5ECF6\",\"subunitcolor\":\"white\",\"showland\":true,\"showlakes\":true,\"lakecolor\":\"white\"},\"title\":{\"x\":0.05},\"mapbox\":{\"style\":\"light\"}}},\"scene\":{\"domain\":{\"x\":[0.0,1.0],\"y\":[0.0,1.0]},\"xaxis\":{\"title\":{\"text\":\"X\"}},\"yaxis\":{\"title\":{\"text\":\"Y\"}},\"zaxis\":{\"title\":{\"text\":\"Z\"}}},\"legend\":{\"title\":{\"text\":\"Category\"},\"tracegroupgap\":0},\"title\":{\"text\":\"3D Scatter Plot Example\"}},                        {\"responsive\": true}                    ).then(function(){\n",
              "                            \n",
              "var gd = document.getElementById('91c6c630-988d-48e1-973f-57f8b3facd75');\n",
              "var x = new MutationObserver(function (mutations, observer) {{\n",
              "        var display = window.getComputedStyle(gd).display;\n",
              "        if (!display || display === 'none') {{\n",
              "            console.log([gd, 'removed!']);\n",
              "            Plotly.purge(gd);\n",
              "            observer.disconnect();\n",
              "        }}\n",
              "}});\n",
              "\n",
              "// Listen for the removal of the full notebook cells\n",
              "var notebookContainer = gd.closest('#notebook-container');\n",
              "if (notebookContainer) {{\n",
              "    x.observe(notebookContainer, {childList: true});\n",
              "}}\n",
              "\n",
              "// Listen for the clearing of the current output cell\n",
              "var outputEl = gd.closest('.output');\n",
              "if (outputEl) {{\n",
              "    x.observe(outputEl, {childList: true});\n",
              "}}\n",
              "\n",
              "                        })                };                            </script>        </div>\n",
              "</body>\n",
              "</html>"
            ]
          },
          "metadata": {}
        }
      ]
    }
  ]
}